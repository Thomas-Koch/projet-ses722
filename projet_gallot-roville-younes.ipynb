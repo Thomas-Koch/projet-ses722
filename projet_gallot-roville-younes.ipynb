{
 "cells": [
  {
   "cell_type": "code",
   "execution_count": 31,
   "metadata": {
    "collapsed": true
   },
   "outputs": [],
   "source": [
    "import pandas as pd\n",
    "import numpy as np\n",
    "from sklearn.linear_model import LinearRegression\n",
    "from matplotlib import pyplot as plt\n",
    "from scipy import stats\n",
    "\n",
    "%matplotlib inline"
   ]
  },
  {
   "cell_type": "markdown",
   "metadata": {},
   "source": [
    "# Partie 1: Régression"
   ]
  },
  {
   "cell_type": "markdown",
   "metadata": {},
   "source": [
    "## 1. Lire le fichier mroz.txt. Ne sélectionner que les observations pour lesquelles la variable wage est strictement positive."
   ]
  },
  {
   "cell_type": "code",
   "execution_count": 32,
   "metadata": {
    "collapsed": false
   },
   "outputs": [],
   "source": [
    "names = [\n",
    "    'inlf',                    # =1 if in labor force, 1975\n",
    "    'hours',                   # hours worked, 1975\n",
    "    'kidslt6',                 # #kids < 6 years\n",
    "    'kidsge6',                 # #kids 6-18\n",
    "    'age',                     # woman's age in yrs\n",
    "    'educ',                    # years of schooling\n",
    "    'wage',                    # estimated wage from earns., hours\n",
    "    'repwage',                 # reported wage at interview in 1976\n",
    "    'hushrs',                  # hours worked by husband, 1975\n",
    "    'husage',                  # husband's age\n",
    "    'huseduc',                 # husband's years of schooling\n",
    "    'huswage',                 # husband's hourly wage, 1975\n",
    "    'faminc',                  # family income, 1975\n",
    "    'mtr',                     # fed. marginal tax rate facing woman\n",
    "    'motheduc',                # mother's years of schooling\n",
    "    'fatheduc',                # father's years of schooling\n",
    "    'unem',                    # unem. rate in county of resid.\n",
    "    'city',                    # =1 if live in SMSA\n",
    "    'exper',                   # actual labor mkt exper\n",
    "    'nwifeinc',                # (faminc - wage*hours)/1000\n",
    "    'lwage',                   # log(wage)\n",
    "    'expersq',                 # exper^2\n",
    "]\n",
    "\n",
    "df = pd.read_csv('textfiles/MROZ.raw', sep='\\s+', names=names)"
   ]
  },
  {
   "cell_type": "code",
   "execution_count": 33,
   "metadata": {
    "collapsed": false
   },
   "outputs": [
    {
     "data": {
      "text/html": [
       "<div>\n",
       "<table border=\"1\" class=\"dataframe\">\n",
       "  <thead>\n",
       "    <tr style=\"text-align: right;\">\n",
       "      <th></th>\n",
       "      <th>inlf</th>\n",
       "      <th>hours</th>\n",
       "      <th>kidslt6</th>\n",
       "      <th>kidsge6</th>\n",
       "      <th>age</th>\n",
       "      <th>educ</th>\n",
       "      <th>wage</th>\n",
       "      <th>repwage</th>\n",
       "      <th>hushrs</th>\n",
       "      <th>husage</th>\n",
       "      <th>...</th>\n",
       "      <th>faminc</th>\n",
       "      <th>mtr</th>\n",
       "      <th>motheduc</th>\n",
       "      <th>fatheduc</th>\n",
       "      <th>unem</th>\n",
       "      <th>city</th>\n",
       "      <th>exper</th>\n",
       "      <th>nwifeinc</th>\n",
       "      <th>lwage</th>\n",
       "      <th>expersq</th>\n",
       "    </tr>\n",
       "  </thead>\n",
       "  <tbody>\n",
       "    <tr>\n",
       "      <th>0</th>\n",
       "      <td>1</td>\n",
       "      <td>1610</td>\n",
       "      <td>1</td>\n",
       "      <td>0</td>\n",
       "      <td>32</td>\n",
       "      <td>12</td>\n",
       "      <td>3.354</td>\n",
       "      <td>2.65</td>\n",
       "      <td>2708</td>\n",
       "      <td>34</td>\n",
       "      <td>...</td>\n",
       "      <td>16310</td>\n",
       "      <td>0.7215</td>\n",
       "      <td>12</td>\n",
       "      <td>7</td>\n",
       "      <td>5.0</td>\n",
       "      <td>0</td>\n",
       "      <td>14</td>\n",
       "      <td>10.910060</td>\n",
       "      <td>1.210154</td>\n",
       "      <td>196</td>\n",
       "    </tr>\n",
       "    <tr>\n",
       "      <th>1</th>\n",
       "      <td>1</td>\n",
       "      <td>1656</td>\n",
       "      <td>0</td>\n",
       "      <td>2</td>\n",
       "      <td>30</td>\n",
       "      <td>12</td>\n",
       "      <td>1.3889</td>\n",
       "      <td>2.65</td>\n",
       "      <td>2310</td>\n",
       "      <td>30</td>\n",
       "      <td>...</td>\n",
       "      <td>21800</td>\n",
       "      <td>0.6615</td>\n",
       "      <td>7</td>\n",
       "      <td>7</td>\n",
       "      <td>11.0</td>\n",
       "      <td>1</td>\n",
       "      <td>5</td>\n",
       "      <td>19.499980</td>\n",
       "      <td>.3285121</td>\n",
       "      <td>25</td>\n",
       "    </tr>\n",
       "    <tr>\n",
       "      <th>2</th>\n",
       "      <td>1</td>\n",
       "      <td>1980</td>\n",
       "      <td>1</td>\n",
       "      <td>3</td>\n",
       "      <td>35</td>\n",
       "      <td>12</td>\n",
       "      <td>4.5455</td>\n",
       "      <td>4.04</td>\n",
       "      <td>3072</td>\n",
       "      <td>40</td>\n",
       "      <td>...</td>\n",
       "      <td>21040</td>\n",
       "      <td>0.6915</td>\n",
       "      <td>12</td>\n",
       "      <td>7</td>\n",
       "      <td>5.0</td>\n",
       "      <td>0</td>\n",
       "      <td>15</td>\n",
       "      <td>12.039910</td>\n",
       "      <td>1.514138</td>\n",
       "      <td>225</td>\n",
       "    </tr>\n",
       "    <tr>\n",
       "      <th>3</th>\n",
       "      <td>1</td>\n",
       "      <td>456</td>\n",
       "      <td>0</td>\n",
       "      <td>3</td>\n",
       "      <td>34</td>\n",
       "      <td>12</td>\n",
       "      <td>1.0965</td>\n",
       "      <td>3.25</td>\n",
       "      <td>1920</td>\n",
       "      <td>53</td>\n",
       "      <td>...</td>\n",
       "      <td>7300</td>\n",
       "      <td>0.7815</td>\n",
       "      <td>7</td>\n",
       "      <td>7</td>\n",
       "      <td>5.0</td>\n",
       "      <td>0</td>\n",
       "      <td>6</td>\n",
       "      <td>6.799996</td>\n",
       "      <td>.0921233</td>\n",
       "      <td>36</td>\n",
       "    </tr>\n",
       "    <tr>\n",
       "      <th>4</th>\n",
       "      <td>1</td>\n",
       "      <td>1568</td>\n",
       "      <td>1</td>\n",
       "      <td>2</td>\n",
       "      <td>31</td>\n",
       "      <td>14</td>\n",
       "      <td>4.5918</td>\n",
       "      <td>3.60</td>\n",
       "      <td>2000</td>\n",
       "      <td>32</td>\n",
       "      <td>...</td>\n",
       "      <td>27300</td>\n",
       "      <td>0.6215</td>\n",
       "      <td>12</td>\n",
       "      <td>14</td>\n",
       "      <td>9.5</td>\n",
       "      <td>1</td>\n",
       "      <td>7</td>\n",
       "      <td>20.100060</td>\n",
       "      <td>1.524272</td>\n",
       "      <td>49</td>\n",
       "    </tr>\n",
       "  </tbody>\n",
       "</table>\n",
       "<p>5 rows × 22 columns</p>\n",
       "</div>"
      ],
      "text/plain": [
       "   inlf  hours  kidslt6  kidsge6  age  educ    wage  repwage  hushrs  husage  \\\n",
       "0     1   1610        1        0   32    12   3.354     2.65    2708      34   \n",
       "1     1   1656        0        2   30    12  1.3889     2.65    2310      30   \n",
       "2     1   1980        1        3   35    12  4.5455     4.04    3072      40   \n",
       "3     1    456        0        3   34    12  1.0965     3.25    1920      53   \n",
       "4     1   1568        1        2   31    14  4.5918     3.60    2000      32   \n",
       "\n",
       "    ...     faminc     mtr  motheduc  fatheduc  unem  city  exper   nwifeinc  \\\n",
       "0   ...      16310  0.7215        12         7   5.0     0     14  10.910060   \n",
       "1   ...      21800  0.6615         7         7  11.0     1      5  19.499980   \n",
       "2   ...      21040  0.6915        12         7   5.0     0     15  12.039910   \n",
       "3   ...       7300  0.7815         7         7   5.0     0      6   6.799996   \n",
       "4   ...      27300  0.6215        12        14   9.5     1      7  20.100060   \n",
       "\n",
       "      lwage  expersq  \n",
       "0  1.210154      196  \n",
       "1  .3285121       25  \n",
       "2  1.514138      225  \n",
       "3  .0921233       36  \n",
       "4  1.524272       49  \n",
       "\n",
       "[5 rows x 22 columns]"
      ]
     },
     "execution_count": 33,
     "metadata": {},
     "output_type": "execute_result"
    }
   ],
   "source": [
    "df.head()"
   ]
  },
  {
   "cell_type": "code",
   "execution_count": 34,
   "metadata": {
    "collapsed": false
   },
   "outputs": [
    {
     "name": "stdout",
     "output_type": "stream",
     "text": [
      "Number of rows before: 753\n",
      "Number of rows after keeping only positive wages: 428\n"
     ]
    }
   ],
   "source": [
    "print('Number of rows before:', df.shape[0])\n",
    "\n",
    "dec_cols = ['wage', 'huswage', 'lwage']\n",
    "for c in dec_cols:\n",
    "    df[c] = [0. if w=='.' else float(w) for w in df[c]]\n",
    "\n",
    "df_pos = df[df.wage > 0.]\n",
    "print('Number of rows after keeping only positive wages:', df_pos.shape[0])"
   ]
  },
  {
   "cell_type": "markdown",
   "metadata": {},
   "source": [
    "## 2. Faire les statistiques descriptives du salaire, de l’age et de l’éducation  pour l’ensemble des femmes puis, pour les femmes dont le salaire du mari est supérieur à la médiane de l’échantillon, puis pour les femmes dont le salaire du mari est inférieur à la médiane de l’échantillon"
   ]
  },
  {
   "cell_type": "code",
   "execution_count": 35,
   "metadata": {
    "collapsed": false
   },
   "outputs": [
    {
     "data": {
      "text/plain": [
       "count    753.000000\n",
       "mean       2.374565\n",
       "std        3.241829\n",
       "min        0.000000\n",
       "25%        0.000000\n",
       "50%        1.625000\n",
       "75%        3.787900\n",
       "max       25.000000\n",
       "Name: wage, dtype: float64"
      ]
     },
     "execution_count": 35,
     "metadata": {},
     "output_type": "execute_result"
    }
   ],
   "source": [
    "df.wage.describe()"
   ]
  },
  {
   "cell_type": "code",
   "execution_count": 36,
   "metadata": {
    "collapsed": false
   },
   "outputs": [
    {
     "data": {
      "text/plain": [
       "count    753.000000\n",
       "mean      42.537849\n",
       "std        8.072574\n",
       "min       30.000000\n",
       "25%       36.000000\n",
       "50%       43.000000\n",
       "75%       49.000000\n",
       "max       60.000000\n",
       "Name: age, dtype: float64"
      ]
     },
     "execution_count": 36,
     "metadata": {},
     "output_type": "execute_result"
    }
   ],
   "source": [
    "df.age.describe()"
   ]
  },
  {
   "cell_type": "code",
   "execution_count": 37,
   "metadata": {
    "collapsed": false
   },
   "outputs": [
    {
     "data": {
      "text/plain": [
       "count    753.000000\n",
       "mean      12.286853\n",
       "std        2.280246\n",
       "min        5.000000\n",
       "25%       12.000000\n",
       "50%       12.000000\n",
       "75%       13.000000\n",
       "max       17.000000\n",
       "Name: educ, dtype: float64"
      ]
     },
     "execution_count": 37,
     "metadata": {},
     "output_type": "execute_result"
    }
   ],
   "source": [
    "df.educ.describe()"
   ]
  },
  {
   "cell_type": "code",
   "execution_count": 38,
   "metadata": {
    "collapsed": false
   },
   "outputs": [],
   "source": [
    "median_huswage = df_pos.huswage.median()\n",
    "df_wage_gt_median = df_pos[df_pos['huswage'] > median_huswage]"
   ]
  },
  {
   "cell_type": "code",
   "execution_count": 39,
   "metadata": {
    "collapsed": false
   },
   "outputs": [
    {
     "data": {
      "text/plain": [
       "count    214.000000\n",
       "mean       4.896822\n",
       "std        4.041606\n",
       "min        0.161600\n",
       "25%        2.513850\n",
       "50%        3.846400\n",
       "75%        5.854125\n",
       "max       25.000000\n",
       "Name: wage, dtype: float64"
      ]
     },
     "execution_count": 39,
     "metadata": {},
     "output_type": "execute_result"
    }
   ],
   "source": [
    "df_wage_gt_median.wage.describe()"
   ]
  },
  {
   "cell_type": "code",
   "execution_count": 40,
   "metadata": {
    "collapsed": false
   },
   "outputs": [
    {
     "data": {
      "text/plain": [
       "count    214.000000\n",
       "mean      42.275701\n",
       "std        7.388843\n",
       "min       30.000000\n",
       "25%       36.000000\n",
       "50%       43.000000\n",
       "75%       48.000000\n",
       "max       59.000000\n",
       "Name: age, dtype: float64"
      ]
     },
     "execution_count": 40,
     "metadata": {},
     "output_type": "execute_result"
    }
   ],
   "source": [
    "df_wage_gt_median.age.describe()"
   ]
  },
  {
   "cell_type": "code",
   "execution_count": 41,
   "metadata": {
    "collapsed": false
   },
   "outputs": [
    {
     "data": {
      "text/plain": [
       "count    214.000000\n",
       "mean      13.242991\n",
       "std        2.359045\n",
       "min        5.000000\n",
       "25%       12.000000\n",
       "50%       12.000000\n",
       "75%       16.000000\n",
       "max       17.000000\n",
       "Name: educ, dtype: float64"
      ]
     },
     "execution_count": 41,
     "metadata": {},
     "output_type": "execute_result"
    }
   ],
   "source": [
    "df_wage_gt_median.educ.describe()"
   ]
  },
  {
   "cell_type": "code",
   "execution_count": 42,
   "metadata": {
    "collapsed": false
   },
   "outputs": [
    {
     "data": {
      "text/plain": [
       "count    214.000000\n",
       "mean       3.458541\n",
       "std        2.143274\n",
       "min        0.128200\n",
       "25%        2.117275\n",
       "50%        2.971800\n",
       "75%        4.393800\n",
       "max       18.267000\n",
       "Name: wage, dtype: float64"
      ]
     },
     "execution_count": 42,
     "metadata": {},
     "output_type": "execute_result"
    }
   ],
   "source": [
    "df_wage_lt_median = df_pos[df_pos['huswage'] <= median_huswage]\n",
    "df_wage_lt_median.wage.describe()"
   ]
  },
  {
   "cell_type": "code",
   "execution_count": 43,
   "metadata": {
    "collapsed": false
   },
   "outputs": [
    {
     "data": {
      "text/plain": [
       "count    214.000000\n",
       "mean      41.668224\n",
       "std        8.045482\n",
       "min       30.000000\n",
       "25%       35.000000\n",
       "50%       41.000000\n",
       "75%       47.000000\n",
       "max       60.000000\n",
       "Name: age, dtype: float64"
      ]
     },
     "execution_count": 43,
     "metadata": {},
     "output_type": "execute_result"
    }
   ],
   "source": [
    "df_wage_lt_median.age.describe()"
   ]
  },
  {
   "cell_type": "code",
   "execution_count": 44,
   "metadata": {
    "collapsed": false
   },
   "outputs": [
    {
     "data": {
      "text/plain": [
       "count    214.000000\n",
       "mean      12.074766\n",
       "std        2.054200\n",
       "min        6.000000\n",
       "25%       12.000000\n",
       "50%       12.000000\n",
       "75%       12.000000\n",
       "max       17.000000\n",
       "Name: educ, dtype: float64"
      ]
     },
     "execution_count": 44,
     "metadata": {},
     "output_type": "execute_result"
    }
   ],
   "source": [
    "df_wage_lt_median.educ.describe()"
   ]
  },
  {
   "cell_type": "markdown",
   "metadata": {},
   "source": [
    "## 3. Faire l'histogramme de la variable wage. Calculer le log de wage et faire l'histogramme. Comparez les deux histogrammes et commentez"
   ]
  },
  {
   "cell_type": "code",
   "execution_count": 45,
   "metadata": {
    "collapsed": false
   },
   "outputs": [
    {
     "data": {
      "image/png": "[encoded data removed]",
      "text/plain": [
       "<matplotlib.figure.Figure at 0x7facdbc087f0>"
      ]
     },
     "metadata": {},
     "output_type": "display_data"
    }
   ],
   "source": [
    "plt.hist(df_pos.wage, bins=25)\n",
    "pass"
   ]
  },
  {
   "cell_type": "code",
   "execution_count": 46,
   "metadata": {
    "collapsed": false
   },
   "outputs": [
    {
     "data": {
      "image/png": "[encoded data removed]",
      "text/plain": [
       "<matplotlib.figure.Figure at 0x7face17647b8>"
      ]
     },
     "metadata": {},
     "output_type": "display_data"
    }
   ],
   "source": [
    "plt.hist(df_pos.lwage, bins=25)\n",
    "pass"
   ]
  },
  {
   "cell_type": "markdown",
   "metadata": {},
   "source": [
    "## 4. Calculer les corrélations motheduc et fatheduc. Commentez. Il y a-t-il un problème de multicollinéarité si l'on utilise ces variables comme variables explicatives?"
   ]
  },
  {
   "cell_type": "code",
   "execution_count": 47,
   "metadata": {
    "collapsed": false
   },
   "outputs": [
    {
     "name": "stdout",
     "output_type": "stream",
     "text": [
      "Corrélation entre motheduc et fatheduc: 0.554063218431\n"
     ]
    }
   ],
   "source": [
    "corr_motheduc_fatheduc = np.corrcoef(df_pos.motheduc, df_pos.fatheduc)[1,0]\n",
    "print('Corrélation entre motheduc et fatheduc:', corr_motheduc_fatheduc)"
   ]
  },
  {
   "cell_type": "markdown",
   "metadata": {},
   "source": [
    "Une corrélation de 0.55 n'est pas suffisante pour justifier la multicolinéarité entre ces variables."
   ]
  },
  {
   "cell_type": "markdown",
   "metadata": {},
   "source": [
    "## 5. Faites un graphique en nuage de point entre wage et educ, wage et exper, wage et fatheduc. Commentez. S'agit-il d'un effet \"toute chose étant égale par ailleurs ?\""
   ]
  },
  {
   "cell_type": "code",
   "execution_count": 48,
   "metadata": {
    "collapsed": false
   },
   "outputs": [
    {
     "data": {
      "image/png": "[encoded data removed]",
      "text/plain": [
       "<matplotlib.figure.Figure at 0x7face1709f60>"
      ]
     },
     "metadata": {},
     "output_type": "display_data"
    }
   ],
   "source": [
    "plt.scatter(df_pos.wage, df_pos.educ)\n",
    "pass"
   ]
  },
  {
   "cell_type": "code",
   "execution_count": 49,
   "metadata": {
    "collapsed": false
   },
   "outputs": [
    {
     "data": {
      "image/png": "[encoded data removed]",
      "text/plain": [
       "<matplotlib.figure.Figure at 0x7facdbb0fe80>"
      ]
     },
     "metadata": {},
     "output_type": "display_data"
    }
   ],
   "source": [
    "plt.scatter(df_pos.wage, df_pos.exper)\n",
    "pass"
   ]
  },
  {
   "cell_type": "code",
   "execution_count": 50,
   "metadata": {
    "collapsed": false
   },
   "outputs": [
    {
     "data": {
      "image/png": "[encoded data removed]",
      "text/plain": [
       "<matplotlib.figure.Figure at 0x7facdbc24240>"
      ]
     },
     "metadata": {},
     "output_type": "display_data"
    }
   ],
   "source": [
    "plt.scatter(df_pos.wage, df_pos.fatheduc)\n",
    "pass"
   ]
  },
  {
   "cell_type": "markdown",
   "metadata": {},
   "source": [
    "## 6. Quelle est l'hypothèse fondamentale qui garantit des estimateurs non biaisés ? Expliquer le biais de variable omise"
   ]
  },
  {
   "cell_type": "markdown",
   "metadata": {
    "collapsed": true
   },
   "source": [
    "L'espérance des résidus doit être nulle pour garantir des estimateurs non biaisés."
   ]
  },
  {
   "cell_type": "markdown",
   "metadata": {},
   "source": [
    "## 7. Faire la régression de wage en utilisant les variables explicatives un constante, city, educ, exper, nwifeinc, kidslt6, kidsge6. Commentez l'histogramme des résidus. "
   ]
  },
  {
   "cell_type": "code",
   "execution_count": 51,
   "metadata": {
    "collapsed": false
   },
   "outputs": [],
   "source": [
    "cols = ['city', 'educ', 'exper', 'nwifeinc', 'kidslt6', 'kidsge6']\n",
    "X = df_pos[cols]\n",
    "X = X.assign(const=np.ones(df_pos.shape[0]), index=df_pos.index)\n",
    "inv_gram = np.linalg.inv(X.T.dot(X))"
   ]
  },
  {
   "cell_type": "code",
   "execution_count": 52,
   "metadata": {
    "collapsed": false
   },
   "outputs": [
    {
     "data": {
      "image/png": "[encoded data removed]",
      "text/plain": [
       "<matplotlib.figure.Figure at 0x7facdba764e0>"
      ]
     },
     "metadata": {},
     "output_type": "display_data"
    }
   ],
   "source": [
    "beta = inv_gram.dot(X.T).dot(df_pos.wage)\n",
    "u = df_pos.wage - beta.dot(X.T)\n",
    "plt.hist(u, bins=30)\n",
    "pass"
   ]
  },
  {
   "cell_type": "markdown",
   "metadata": {},
   "source": [
    "L'histogramme est asymmétrique à droite, il présente une queue de distribution à droite plus longue qu'à gauche."
   ]
  },
  {
   "cell_type": "markdown",
   "metadata": {},
   "source": [
    "## 8. Faire la régression de lwage sur une constante, city, educ, exper, nwifeinc, kidslt6, kidsge6. Comparer l’histogramme obtenu à celui de la question 7."
   ]
  },
  {
   "cell_type": "code",
   "execution_count": 53,
   "metadata": {
    "collapsed": false
   },
   "outputs": [
    {
     "data": {
      "image/png": "[encoded data removed]",
      "text/plain": [
       "<matplotlib.figure.Figure at 0x7face16cc160>"
      ]
     },
     "metadata": {},
     "output_type": "display_data"
    }
   ],
   "source": [
    "beta = inv_gram.dot(X.T).dot(df_pos.lwage)\n",
    "u = df_pos.lwage - beta.dot(X.T)\n",
    "plt.hist(u, bins=30)\n",
    "pass"
   ]
  },
  {
   "cell_type": "markdown",
   "metadata": {},
   "source": [
    "En utilisant le logarithme du salaire, on obtient un histogramme bien plus symétrique qu'à la question précédente, et qui suit une loi normale."
   ]
  },
  {
   "cell_type": "markdown",
   "metadata": {},
   "source": [
    "## 9. Tester l'hypothèse de non significativité de exper avec un seuil de significativité de 1%, 5% et 10% (test alternatif des deux côtés). Commentez les p-values. "
   ]
  },
  {
   "cell_type": "markdown",
   "metadata": {
    "collapsed": false
   },
   "source": [
    "Hypothèse $H_{0} : \\beta_{exper} = 0$"
   ]
  },
  {
   "cell_type": "code",
   "execution_count": 89,
   "metadata": {
    "collapsed": false,
    "scrolled": true
   },
   "outputs": [
    {
     "name": "stdout",
     "output_type": "stream",
     "text": [
      "seuil: 0.01\n",
      "3.50 > 5.18: on ne rejette pas l'hypothèse de non significativité\n",
      "p_value : 3.53585996688e-07\n",
      "\n",
      "seuil: 0.05\n",
      "3.50 > 3.93: on ne rejette pas l'hypothèse de non significativité\n",
      "p_value : 9.88146938343e-05\n",
      "\n",
      "seuil: 0.1\n",
      "3.50 > 3.30: on rejette l'hypothèse de non significativité\n",
      "p_value : 0.00106038202915\n",
      "\n"
     ]
    }
   ],
   "source": [
    "n, k = X.shape\n",
    "ix_exper = cols.index('exper')\n",
    "sig2 = u.T.dot(u) / (n-k)\n",
    "std = np.sqrt(np.diag(sig2 * inv_gram))\n",
    "t = beta / std\n",
    "t_exper = t[ix_exper]\n",
    "\n",
    "for threshold in [0.01, 0.05, 0.1]:\n",
    "    t_stat = 2 * stats.t.isf(threshold/2, n-k)\n",
    "    print('seuil: {}'.format(threshold))\n",
    "    if (t_exper > t_stat):\n",
    "        print('{:.2f} > {:.2f}: on rejette l\\'hypothèse de non significativité'\n",
    "              .format(t_exper, t_stat))\n",
    "    else:\n",
    "        print('{:.2f} > {:.2f}: on ne rejette pas l\\'hypothèse de non significativité'\n",
    "              .format(t_exper, t_stat))\n",
    "    print('p_value :', 2 * stats.t.sf(t_stat,n-k), '\\n')"
   ]
  },
  {
   "cell_type": "markdown",
   "metadata": {},
   "source": [
    "## 10. Tester l’hypothèse que le coefficient associé à educ est égal à 10% avec un seuil de significativité de 5% (test à alternatif des deux côtés)"
   ]
  },
  {
   "cell_type": "code",
   "execution_count": 92,
   "metadata": {
    "collapsed": false
   },
   "outputs": [
    {
     "name": "stdout",
     "output_type": "stream",
     "text": [
      "Threshold: 0.05\n",
      "\t6.68 > 3.93: on rejette l'hypothèse\n"
     ]
    }
   ],
   "source": [
    "ix_educ = cols.index('educ')\n",
    "t_educ = t[ix_educ] - 0.1\n",
    "\n",
    "threshold = 0.05\n",
    "t_stat = 2 * stats.t.isf(threshold/2, n-k)\n",
    "print('Threshold: {}'.format(threshold))\n",
    "if (t_educ > t_stat):\n",
    "    print('\\t{:.2f} > {:.2f}: on rejette l\\'hypothèse'\n",
    "          .format(t_educ, t_stat))\n",
    "else:\n",
    "    print('\\t{:.2f} > {:.2f}: on ne rejette pas l\\'hypothèse'\n",
    "          .format(t_educ, t_stat))"
   ]
  },
  {
   "cell_type": "markdown",
   "metadata": {},
   "source": [
    "## 11. Tester l’hypothèse jointe que le rendement de l’éducation est de 10% et que celui de l’expérience professionnelle est de 5%."
   ]
  },
  {
   "cell_type": "code",
   "execution_count": null,
   "metadata": {
    "collapsed": true
   },
   "outputs": [],
   "source": []
  },
  {
   "cell_type": "markdown",
   "metadata": {},
   "source": [
    "## 12. De combien augmente le salaire en pourcentage avec 10 années d’expérience ?"
   ]
  },
  {
   "cell_type": "code",
   "execution_count": 55,
   "metadata": {
    "collapsed": false
   },
   "outputs": [
    {
     "name": "stdout",
     "output_type": "stream",
     "text": [
      "En 10 ans, le salaire augmente en moyenne de 22.60%\n"
     ]
    },
    {
     "data": {
      "image/png": "[encoded data removed]",
      "text/plain": [
       "<matplotlib.figure.Figure at 0x7facdb9551d0>"
      ]
     },
     "metadata": {},
     "output_type": "display_data"
    }
   ],
   "source": [
    "lr = LinearRegression()\n",
    "lr.fit(df_pos[['exper']], df_pos.wage)\n",
    "percentage = lr.coef_[0] * 100.\n",
    "print('En 10 ans, le salaire augmente en moyenne de {:.2f}%'.format(percentage * 10))\n",
    "\n",
    "plt.scatter(df_pos.exper, df_pos.wage, marker='+')\n",
    "\n",
    "r = list(range(40))\n",
    "plt.plot(r, [lr.predict(x) for x in r], c='r')\n",
    "pass"
   ]
  },
  {
   "cell_type": "markdown",
   "metadata": {},
   "source": [
    "## 13. Tester l’égalité des coefficients associés aux variables kidsge6 et kidslt6. Interprétez."
   ]
  },
  {
   "cell_type": "code",
   "execution_count": 56,
   "metadata": {
    "collapsed": false
   },
   "outputs": [
    {
     "name": "stdout",
     "output_type": "stream",
     "text": [
      "Les coefficients associés aux variables kidsge6 et kidslt6 sont différents\n",
      "-0.0116 != -0.0434 (différents à 73.23%)\n"
     ]
    }
   ],
   "source": [
    "coef_kidsge6 = beta[cols.index('kidsge6')]\n",
    "coef_kidslt6 = beta[cols.index('kidslt6')]\n",
    "\n",
    "if coef_kidsge6 == coef_kidslt6:\n",
    "    print('Les coefficients associés aux variables kidsge6 et kidslt6 sont égaux')\n",
    "else:\n",
    "    abs_diff = abs((coef_kidsge6 - coef_kidslt6) / coef_kidslt6)\n",
    "    print('Les coefficients associés aux variables kidsge6 et kidslt6 sont différents')\n",
    "    print('{:.4f} != {:.4f} (différents à {:.2f}%)'.format(coef_kidsge6, coef_kidslt6, abs_diff*100))"
   ]
  },
  {
   "cell_type": "markdown",
   "metadata": {},
   "source": [
    "## 14. En utilisant le modèle de la question 7, faire le test d'hétéroscédasticité de forme linéaire. Corriger le problème par rapport à la variable la plus importante en utilisant la méthode des MCG. Comparer les écarts-types des coefficients estimés avec ceux obtenus à la question 7. Commenter."
   ]
  },
  {
   "cell_type": "code",
   "execution_count": null,
   "metadata": {
    "collapsed": true
   },
   "outputs": [],
   "source": []
  },
  {
   "cell_type": "markdown",
   "metadata": {},
   "source": [
    "## 15. Tester le changement de structure de la question 8 entre les femmes qui ont plus de 43 ans et les autres : test sur l'ensemble des coefficients. Refaire le test avec 3 groupes (mutuellement exclusifs) : les femmes de moins de 30 ans, entre 30 et 43 ans, plus de 43 ans."
   ]
  },
  {
   "cell_type": "code",
   "execution_count": null,
   "metadata": {
    "collapsed": true
   },
   "outputs": [],
   "source": []
  },
  {
   "cell_type": "markdown",
   "metadata": {},
   "source": [
    "## 16. A partir de la variable kidslt6, créer un ensemble de variables binaires pour le nombre d’enfants de moins de 6 ans. Refaire la question 8 avec ces variables et en utilisant comme référence les femmes qui ont des enfants de plus de 6 ans. Ces catégories sont-elles mutuellement exclusives ? Interprétez les paramètres associés aux variables binaires. Faire le test de non significativité de l’ensemble des variables binaires."
   ]
  },
  {
   "cell_type": "code",
   "execution_count": null,
   "metadata": {
    "collapsed": true
   },
   "outputs": [],
   "source": []
  },
  {
   "cell_type": "markdown",
   "metadata": {},
   "source": [
    "## 17. Créer une variable binaire pour les femmes qui ont des enfants de moins de 2 ans. Créer un terme d’interaction entre le nombre d’enfants de moins deux ans et l’éducation. Faire la régression de lwage sur une constante, city, educ, exper, nwifeinc,  et ces deux dernières variables. Faire le test de significativité du terme d’interaction. Interpréter."
   ]
  },
  {
   "cell_type": "code",
   "execution_count": null,
   "metadata": {
    "collapsed": true
   },
   "outputs": [],
   "source": []
  },
  {
   "cell_type": "markdown",
   "metadata": {},
   "source": [
    "# Partie 2: Séries temporelles 1"
   ]
  },
  {
   "cell_type": "markdown",
   "metadata": {},
   "source": [
    "## 1. Ouvrir le fichier volat.raw; importer les données sur matlab en recodant les valeurs manquantes en -9999."
   ]
  },
  {
   "cell_type": "code",
   "execution_count": 2,
   "metadata": {
    "collapsed": false
   },
   "outputs": [
    {
     "data": {
      "text/html": [
       "<div>\n",
       "<table border=\"1\" class=\"dataframe\">\n",
       "  <thead>\n",
       "    <tr style=\"text-align: right;\">\n",
       "      <th></th>\n",
       "      <th>date</th>\n",
       "      <th>sp500</th>\n",
       "      <th>div1y</th>\n",
       "      <th>i3</th>\n",
       "      <th>ip</th>\n",
       "      <th>pcsp</th>\n",
       "      <th>rsp500</th>\n",
       "      <th>pcip</th>\n",
       "      <th>ci3</th>\n",
       "      <th>ci3_1</th>\n",
       "      <th>ci3_2</th>\n",
       "      <th>pcip_1</th>\n",
       "      <th>pcip_2</th>\n",
       "      <th>pcip_3</th>\n",
       "      <th>pcsp_1</th>\n",
       "      <th>pcsp_2</th>\n",
       "      <th>pcsp_3</th>\n",
       "    </tr>\n",
       "  </thead>\n",
       "  <tbody>\n",
       "    <tr>\n",
       "      <th>0</th>\n",
       "      <td>1947.01</td>\n",
       "      <td>15.21</td>\n",
       "      <td>4.49</td>\n",
       "      <td>0.38</td>\n",
       "      <td>22.4</td>\n",
       "      <td>-9999</td>\n",
       "      <td>-9999</td>\n",
       "      <td>-9999</td>\n",
       "      <td>-9999</td>\n",
       "      <td>-9999</td>\n",
       "      <td>-9999</td>\n",
       "      <td>-9999</td>\n",
       "      <td>-9999</td>\n",
       "      <td>-9999</td>\n",
       "      <td>-9999</td>\n",
       "      <td>-9999</td>\n",
       "      <td>-9999</td>\n",
       "    </tr>\n",
       "    <tr>\n",
       "      <th>1</th>\n",
       "      <td>1947.02</td>\n",
       "      <td>15.80</td>\n",
       "      <td>4.38</td>\n",
       "      <td>0.38</td>\n",
       "      <td>22.5</td>\n",
       "      <td>46.54833</td>\n",
       "      <td>50.92833</td>\n",
       "      <td>5.357163</td>\n",
       "      <td>0</td>\n",
       "      <td>-9999</td>\n",
       "      <td>-9999</td>\n",
       "      <td>-9999</td>\n",
       "      <td>-9999</td>\n",
       "      <td>-9999</td>\n",
       "      <td>-9999</td>\n",
       "      <td>-9999</td>\n",
       "      <td>-9999</td>\n",
       "    </tr>\n",
       "    <tr>\n",
       "      <th>2</th>\n",
       "      <td>1947.03</td>\n",
       "      <td>15.16</td>\n",
       "      <td>4.61</td>\n",
       "      <td>0.38</td>\n",
       "      <td>22.6</td>\n",
       "      <td>-48.60762</td>\n",
       "      <td>-43.99762</td>\n",
       "      <td>5.333354</td>\n",
       "      <td>0</td>\n",
       "      <td>0</td>\n",
       "      <td>-9999</td>\n",
       "      <td>5.357163</td>\n",
       "      <td>-9999</td>\n",
       "      <td>-9999</td>\n",
       "      <td>46.54833</td>\n",
       "      <td>-9999</td>\n",
       "      <td>-9999</td>\n",
       "    </tr>\n",
       "    <tr>\n",
       "      <th>3</th>\n",
       "      <td>1947.04</td>\n",
       "      <td>14.60</td>\n",
       "      <td>4.75</td>\n",
       "      <td>0.38</td>\n",
       "      <td>22.5</td>\n",
       "      <td>-44.32714</td>\n",
       "      <td>-39.57714</td>\n",
       "      <td>-5.309754</td>\n",
       "      <td>0</td>\n",
       "      <td>0</td>\n",
       "      <td>0</td>\n",
       "      <td>5.333354</td>\n",
       "      <td>5.357163</td>\n",
       "      <td>-9999</td>\n",
       "      <td>-48.60762</td>\n",
       "      <td>46.54833</td>\n",
       "      <td>-9999</td>\n",
       "    </tr>\n",
       "    <tr>\n",
       "      <th>4</th>\n",
       "      <td>1947.05</td>\n",
       "      <td>14.34</td>\n",
       "      <td>5.05</td>\n",
       "      <td>0.38</td>\n",
       "      <td>22.6</td>\n",
       "      <td>-21.36988</td>\n",
       "      <td>-16.31988</td>\n",
       "      <td>5.333354</td>\n",
       "      <td>0</td>\n",
       "      <td>0</td>\n",
       "      <td>0</td>\n",
       "      <td>-5.309754</td>\n",
       "      <td>5.333354</td>\n",
       "      <td>5.357163</td>\n",
       "      <td>-44.32714</td>\n",
       "      <td>-48.60762</td>\n",
       "      <td>46.54833</td>\n",
       "    </tr>\n",
       "  </tbody>\n",
       "</table>\n",
       "</div>"
      ],
      "text/plain": [
       "      date  sp500  div1y    i3    ip       pcsp     rsp500       pcip    ci3  \\\n",
       "0  1947.01  15.21   4.49  0.38  22.4      -9999      -9999      -9999  -9999   \n",
       "1  1947.02  15.80   4.38  0.38  22.5   46.54833   50.92833   5.357163      0   \n",
       "2  1947.03  15.16   4.61  0.38  22.6  -48.60762  -43.99762   5.333354      0   \n",
       "3  1947.04  14.60   4.75  0.38  22.5  -44.32714  -39.57714  -5.309754      0   \n",
       "4  1947.05  14.34   5.05  0.38  22.6  -21.36988  -16.31988   5.333354      0   \n",
       "\n",
       "   ci3_1  ci3_2     pcip_1    pcip_2    pcip_3     pcsp_1     pcsp_2    pcsp_3  \n",
       "0  -9999  -9999      -9999     -9999     -9999      -9999      -9999     -9999  \n",
       "1  -9999  -9999      -9999     -9999     -9999      -9999      -9999     -9999  \n",
       "2      0  -9999   5.357163     -9999     -9999   46.54833      -9999     -9999  \n",
       "3      0      0   5.333354  5.357163     -9999  -48.60762   46.54833     -9999  \n",
       "4      0      0  -5.309754  5.333354  5.357163  -44.32714  -48.60762  46.54833  "
      ]
     },
     "execution_count": 2,
     "metadata": {},
     "output_type": "execute_result"
    }
   ],
   "source": [
    "names = [\n",
    "    'date',                 # 1947.01 to 1993.06\n",
    "    'sp500',                # S&P 500 index\n",
    "    'div1y',                # dividend yield, annualized rate\n",
    "    'i3',                   # 3 mo. T-bill annualized rate\n",
    "    'ip',                   # index of industrial production\n",
    "    'pcsp',                 # pct chg, sp500, ann rate\n",
    "    'rsp500',               # return on sp500: pcsp + divyld\n",
    "    'pcip',                 # pct chg, IP, ann. rate\n",
    "    'ci3',                  # i3 - i3[t-1]\n",
    "    'ci3_1',                # ci3[t-1]\n",
    "    'ci3_2',                # ci3[t-2]\n",
    "    'pcip_1',               # pcip[t-1]\n",
    "    'pcip_2',               # pcip[t-2]\n",
    "    'pcip_3',               # pcip[t-3]\n",
    "    'pcsp_1',               # pcsp[t-1]\n",
    "    'pcsp_2',               # pcsp[t-2]\n",
    "    'pcsp_3',               # pcsp[t-3]\n",
    "]\n",
    "\n",
    "df_vol = pd.read_csv('textfiles/VOLAT.raw', sep='\\s+', header=None, names=names)\n",
    "df_vol.replace(to_replace='.', value=-9999, inplace=True)\n",
    "df_vol.head()"
   ]
  },
  {
   "cell_type": "markdown",
   "metadata": {},
   "source": [
    "## 2. Pourquoi doit-on stationnariser les séries ?"
   ]
  },
  {
   "cell_type": "code",
   "execution_count": null,
   "metadata": {
    "collapsed": false
   },
   "outputs": [],
   "source": []
  },
  {
   "cell_type": "markdown",
   "metadata": {},
   "source": [
    "## 3. Faire le test de racine unitaire de log(sp500), de pcsp de div"
   ]
  },
  {
   "cell_type": "code",
   "execution_count": 7,
   "metadata": {
    "collapsed": false
   },
   "outputs": [
    {
     "name": "stdout",
     "output_type": "stream",
     "text": [
      "test stats: -2.0540362518747695\n",
      "p-value: 0.5717191884094408\n",
      "lag: 1\n"
     ]
    }
   ],
   "source": [
    "import statsmodels.tsa.stattools as ts\n",
    "\n",
    "unit_test = ts.adfuller(np.log(df_vol.sp500), regression=\"ct\")\n",
    "print(\"test stats: {0}\".format(unit_test[0]))\n",
    "print(\"p-value: {0}\".format(unit_test[1]))\n",
    "print(\"lag: {0}\".format(unit_test[2]))"
   ]
  },
  {
   "cell_type": "code",
   "execution_count": 8,
   "metadata": {
    "collapsed": false
   },
   "outputs": [
    {
     "name": "stdout",
     "output_type": "stream",
     "text": [
      "test stats: -18.157354126270935\n",
      "p-value: 2.4666334051840774e-30\n",
      "lag: 1\n"
     ]
    }
   ],
   "source": [
    "unit_test = ts.adfuller(df_vol.pcsp.astype(np.float64))\n",
    "print(\"test stats: {0}\".format(unit_test[0]))\n",
    "print(\"p-value: {0}\".format(unit_test[1]))\n",
    "print(\"lag: {0}\".format(unit_test[2]))"
   ]
  },
  {
   "cell_type": "code",
   "execution_count": 9,
   "metadata": {
    "collapsed": false
   },
   "outputs": [
    {
     "name": "stdout",
     "output_type": "stream",
     "text": [
      "test stats: -2.2286184152439588\n",
      "p-value: 0.47376236086562723\n",
      "lag: 3\n"
     ]
    }
   ],
   "source": [
    "unit_test = ts.adfuller(df_vol.div1y.astype(np.float64), regression=\"ct\")\n",
    "print(\"test stats: {0}\".format(unit_test[0]))\n",
    "print(\"p-value: {0}\".format(unit_test[1]))\n",
    "print(\"lag: {0}\".format(unit_test[2]))"
   ]
  },
  {
   "cell_type": "markdown",
   "metadata": {},
   "source": [
    "## 4. Interpréter l'autocorrélogramme et l'autocorrélogrammes partiels de pcsp et de div. Quelle est la différence entre ces deux graphiques ?"
   ]
  },
  {
   "cell_type": "code",
   "execution_count": 10,
   "metadata": {
    "collapsed": false
   },
   "outputs": [
    {
     "data": {
      "image/png": "[encoded data removed]",
      "text/plain": [
       "<matplotlib.figure.Figure at 0x7f41b35e11d0>"
      ]
     },
     "metadata": {},
     "output_type": "display_data"
    }
   ],
   "source": [
    "import pylab as pl\n",
    "import statsmodels.api as sm\n",
    "\n",
    "fig, axes = pl.subplots(2,1)\n",
    "fig.subplots_adjust(hspace=.5)\n",
    "fig=sm.graphics.tsa.plot_acf(df_vol.pcsp.astype(np.float64),ax=axes[0])\n",
    "axes[0].set_title(\"Autocorrelogramme de Pcsp\")\n",
    "fig=sm.graphics.tsa.plot_pacf(df_vol.pcsp, ax=axes[1])\n",
    "axes[1].set_title(\"Autocorrelogramme partiel de Pcsp\")\n",
    "plt.show()"
   ]
  },
  {
   "cell_type": "code",
   "execution_count": 11,
   "metadata": {
    "collapsed": false
   },
   "outputs": [
    {
     "data": {
      "image/png": "[encoded data removed]",
      "text/plain": [
       "<matplotlib.figure.Figure at 0x7f416d110ac8>"
      ]
     },
     "metadata": {},
     "output_type": "display_data"
    }
   ],
   "source": [
    "fig, axes = pl.subplots(2,1)\n",
    "fig.subplots_adjust(hspace=.5)\n",
    "fig=sm.graphics.tsa.plot_acf(df_vol.div1y.astype(np.float64),ax=axes[0])\n",
    "axes[0].set_title(\"Autocorrelogramme de Div\")\n",
    "fig=sm.graphics.tsa.plot_pacf(df_vol.div1y, ax=axes[1])\n",
    "axes[1].set_title(\"Autocorrelogramme partiel de Div\")\n",
    "plt.show()"
   ]
  },
  {
   "cell_type": "markdown",
   "metadata": {},
   "source": [
    "## 5. Proposer une modélisation AR(p) d’une série de votre choix, en utilisant tous les outils vus au cours."
   ]
  },
  {
   "cell_type": "code",
   "execution_count": 28,
   "metadata": {
    "collapsed": false
   },
   "outputs": [
    {
     "data": {
      "text/plain": [
       "LinearRegression(copy_X=True, fit_intercept=True, n_jobs=1, normalize=False)"
      ]
     },
     "execution_count": 28,
     "metadata": {},
     "output_type": "execute_result"
    }
   ],
   "source": [
    "p = 2\n",
    "\n",
    "logsp500 = np.log(df_vol.sp500)\n",
    "\n",
    "y = logsp500[p:].values\n",
    "x = np.zeros([len(y), 2])\n",
    "x[:, 0] = logsp500[p-1:-1].values\n",
    "x[:, 1] = logsp500[p-2:-2].values\n",
    "\n",
    "lr = LinearRegression()\n",
    "lr.fit(x, y)"
   ]
  },
  {
   "cell_type": "markdown",
   "metadata": {},
   "source": [
    "## 6. Faire des prévisions pour T+1, T+2, T+3 en utilisant le modèle AR(p) de question 5. Calculer les RMSE."
   ]
  },
  {
   "cell_type": "code",
   "execution_count": 39,
   "metadata": {
    "collapsed": false
   },
   "outputs": [
    {
     "name": "stdout",
     "output_type": "stream",
     "text": [
      "Prediction T+1: 450.13937579554477\n",
      "Prediction T+2: 445.4406240631281\n",
      "Prediction T+3: 452.6913585395395\n",
      "RMSE (logSP500) : 0.9985767470409181\n"
     ]
    }
   ],
   "source": [
    "x_pred = np.zeros([1, 2])\n",
    "x_pred[0, 0] = logsp500[len(logsp500)-1]\n",
    "x_pred[0, 1] = logsp500[len(logsp500)-2]\n",
    "\n",
    "# Calcul des previsions T+1, T+2, T+3 : \n",
    "for t in range(3):  \n",
    "    y_pred_log = lr.predict(x_pred)\n",
    "    y_pred = np.exp(y_pred_log)\n",
    "    print('Prediction T+{0}: {1}'.format(t+1, y_pred[0]))\n",
    "    x_pred[0, 0] = x_pred[0, 1]\n",
    "    x_pred[0, 1] = y_pred_log\n",
    "    \n",
    "# Calcul RMSE sur le training set : \n",
    "rmse = lr.score(x, y)\n",
    "print('RMSE (logSP500) : {0}'.format(rmse))"
   ]
  },
  {
   "cell_type": "markdown",
   "metadata": {},
   "source": [
    "# Partie 3: Séries temporelles 2"
   ]
  },
  {
   "cell_type": "markdown",
   "metadata": {},
   "source": [
    "## 1. Ouvrir le fichier intdef.raw. Faire une régression de i3 sur inf_1, inf_2, inf_3 et def_1, def_2, def_3 où x_i représente la variable x laggée de i périodes. Calculer l’impact à 1, 2 et 3 périodes de inf et def sur i3. Calculer les impacts à long terme ; commentez"
   ]
  },
  {
   "cell_type": "code",
   "execution_count": 64,
   "metadata": {
    "collapsed": false,
    "scrolled": true
   },
   "outputs": [
    {
     "data": {
      "text/html": [
       "<div>\n",
       "<table border=\"1\" class=\"dataframe\">\n",
       "  <thead>\n",
       "    <tr style=\"text-align: right;\">\n",
       "      <th></th>\n",
       "      <th>year</th>\n",
       "      <th>i3</th>\n",
       "      <th>inf</th>\n",
       "      <th>rec</th>\n",
       "      <th>out</th>\n",
       "      <th>def</th>\n",
       "      <th>i3_1</th>\n",
       "      <th>inf_1</th>\n",
       "      <th>def_1</th>\n",
       "      <th>ci3</th>\n",
       "      <th>cinf</th>\n",
       "      <th>cdef</th>\n",
       "      <th>y77</th>\n",
       "      <th>inf_2</th>\n",
       "      <th>inf_3</th>\n",
       "      <th>def_2</th>\n",
       "      <th>def_3</th>\n",
       "    </tr>\n",
       "  </thead>\n",
       "  <tbody>\n",
       "    <tr>\n",
       "      <th>0</th>\n",
       "      <td>1948</td>\n",
       "      <td>1.04</td>\n",
       "      <td>8.1</td>\n",
       "      <td>16.2</td>\n",
       "      <td>11.6</td>\n",
       "      <td>-4.600000</td>\n",
       "      <td>.</td>\n",
       "      <td>.</td>\n",
       "      <td>.</td>\n",
       "      <td>.</td>\n",
       "      <td>.</td>\n",
       "      <td>.</td>\n",
       "      <td>0</td>\n",
       "      <td>NaN</td>\n",
       "      <td>NaN</td>\n",
       "      <td>NaN</td>\n",
       "      <td>NaN</td>\n",
       "    </tr>\n",
       "    <tr>\n",
       "      <th>1</th>\n",
       "      <td>1949</td>\n",
       "      <td>1.10</td>\n",
       "      <td>-1.2</td>\n",
       "      <td>14.5</td>\n",
       "      <td>14.3</td>\n",
       "      <td>-0.200000</td>\n",
       "      <td>1.04</td>\n",
       "      <td>8.1</td>\n",
       "      <td>-4.6</td>\n",
       "      <td>.0600001</td>\n",
       "      <td>-9.3</td>\n",
       "      <td>4.400001</td>\n",
       "      <td>0</td>\n",
       "      <td>NaN</td>\n",
       "      <td>NaN</td>\n",
       "      <td>NaN</td>\n",
       "      <td>NaN</td>\n",
       "    </tr>\n",
       "    <tr>\n",
       "      <th>2</th>\n",
       "      <td>1950</td>\n",
       "      <td>1.22</td>\n",
       "      <td>1.3</td>\n",
       "      <td>14.4</td>\n",
       "      <td>15.6</td>\n",
       "      <td>1.200001</td>\n",
       "      <td>1.1</td>\n",
       "      <td>-1.2</td>\n",
       "      <td>-.1999998</td>\n",
       "      <td>.12</td>\n",
       "      <td>2.5</td>\n",
       "      <td>1.400001</td>\n",
       "      <td>0</td>\n",
       "      <td>8.1</td>\n",
       "      <td>NaN</td>\n",
       "      <td>-4.600000</td>\n",
       "      <td>NaN</td>\n",
       "    </tr>\n",
       "    <tr>\n",
       "      <th>3</th>\n",
       "      <td>1951</td>\n",
       "      <td>1.55</td>\n",
       "      <td>7.9</td>\n",
       "      <td>16.1</td>\n",
       "      <td>14.2</td>\n",
       "      <td>-1.900001</td>\n",
       "      <td>1.22</td>\n",
       "      <td>1.3</td>\n",
       "      <td>1.200001</td>\n",
       "      <td>.3299999</td>\n",
       "      <td>6.6</td>\n",
       "      <td>-3.100001</td>\n",
       "      <td>0</td>\n",
       "      <td>-1.2</td>\n",
       "      <td>8.1</td>\n",
       "      <td>-0.200000</td>\n",
       "      <td>-4.6</td>\n",
       "    </tr>\n",
       "    <tr>\n",
       "      <th>4</th>\n",
       "      <td>1952</td>\n",
       "      <td>1.77</td>\n",
       "      <td>1.9</td>\n",
       "      <td>19.0</td>\n",
       "      <td>19.4</td>\n",
       "      <td>0.400000</td>\n",
       "      <td>1.55</td>\n",
       "      <td>7.9</td>\n",
       "      <td>-1.900001</td>\n",
       "      <td>.22</td>\n",
       "      <td>-6</td>\n",
       "      <td>2.3</td>\n",
       "      <td>0</td>\n",
       "      <td>1.3</td>\n",
       "      <td>-1.2</td>\n",
       "      <td>1.200001</td>\n",
       "      <td>-0.2</td>\n",
       "    </tr>\n",
       "  </tbody>\n",
       "</table>\n",
       "</div>"
      ],
      "text/plain": [
       "   year    i3  inf   rec   out       def  i3_1 inf_1      def_1       ci3  \\\n",
       "0  1948  1.04  8.1  16.2  11.6 -4.600000     .     .          .         .   \n",
       "1  1949  1.10 -1.2  14.5  14.3 -0.200000  1.04   8.1       -4.6  .0600001   \n",
       "2  1950  1.22  1.3  14.4  15.6  1.200001   1.1  -1.2  -.1999998       .12   \n",
       "3  1951  1.55  7.9  16.1  14.2 -1.900001  1.22   1.3   1.200001  .3299999   \n",
       "4  1952  1.77  1.9  19.0  19.4  0.400000  1.55   7.9  -1.900001       .22   \n",
       "\n",
       "   cinf       cdef  y77  inf_2  inf_3     def_2  def_3  \n",
       "0     .          .    0    NaN    NaN       NaN    NaN  \n",
       "1  -9.3   4.400001    0    NaN    NaN       NaN    NaN  \n",
       "2   2.5   1.400001    0    8.1    NaN -4.600000    NaN  \n",
       "3   6.6  -3.100001    0   -1.2    8.1 -0.200000   -4.6  \n",
       "4    -6        2.3    0    1.3   -1.2  1.200001   -0.2  "
      ]
     },
     "execution_count": 64,
     "metadata": {},
     "output_type": "execute_result"
    }
   ],
   "source": [
    "names = [\n",
    "    \"year\",                     # 1948-2003\n",
    "    \"i3\",                       # 3 mo. T bill rate\n",
    "    \"inf\",                      # CPI inflation rate\n",
    "    \"rec\",                      # federal receipts, % GDP\n",
    "    \"out\",                      # federal outlays, % GDP\n",
    "    \"def\",                      # out - rec (deficit as % GDP)\n",
    "    \"i3_1\",                     # i3[t-1]\n",
    "    \"inf_1\",                    # inf[t-1]\n",
    "    \"def_1\",                    # def[t-1]\n",
    "    \"ci3\",                      # i3 - i3_1\n",
    "    \"cinf\",                     # inf - inf_1\n",
    "    \"cdef\",                     # def - def_1\n",
    "    \"y77\",                      # =1 year >= 1977; change in FY\n",
    "    \"inf_2\",\n",
    "    \"inf_3\",\n",
    "    \"def_2\",\n",
    "    \"def_3\"\n",
    "    ]\n",
    "\n",
    "df_vol = pd.read_csv('textfiles/intdef.raw', sep='\\s+', header=None, names=names)\n",
    "df_vol[\"inf_2\"].values[2:] = df_vol[\"inf\"][:-2]\n",
    "df_vol[\"inf_3\"].values[3:] = df_vol[\"inf\"][:-3]\n",
    "df_vol[\"def_2\"].values[2:] = df_vol[\"def\"][:-2]\n",
    "df_vol[\"def_3\"].values[3:] = df_vol[\"def\"][:-3]\n",
    "df_vol.head()"
   ]
  },
  {
   "cell_type": "code",
   "execution_count": 65,
   "metadata": {
    "collapsed": false
   },
   "outputs": [
    {
     "name": "stdout",
     "output_type": "stream",
     "text": [
      "(52, 6) (52,)\n"
     ]
    },
    {
     "data": {
      "text/plain": [
       "LinearRegression(copy_X=True, fit_intercept=True, n_jobs=1, normalize=False)"
      ]
     },
     "execution_count": 65,
     "metadata": {},
     "output_type": "execute_result"
    }
   ],
   "source": [
    "x_cols = [\"inf_1\", \"inf_2\", \"inf_3\", \"def_1\", \"def_2\", \"def_3\"]\n",
    "x = df_vol[x_cols].values[4:]\n",
    "y = df_vol[\"i3\"].values[4:]\n",
    "print(x.shape, y.shape)\n",
    "\n",
    "lr = LinearRegression()\n",
    "lr.fit(x, y)"
   ]
  },
  {
   "cell_type": "markdown",
   "metadata": {},
   "source": [
    "## 2. Tester l’auto-corrélation des erreurs"
   ]
  },
  {
   "cell_type": "code",
   "execution_count": 66,
   "metadata": {
    "collapsed": false
   },
   "outputs": [
    {
     "data": {
      "image/png": "[encoded data removed]",
      "text/plain": [
       "<matplotlib.figure.Figure at 0x7facd9eeebe0>"
      ]
     },
     "metadata": {},
     "output_type": "display_data"
    }
   ],
   "source": [
    "residus = y - lr.predict(x)\n",
    "fig=sm.graphics.tsa.plot_acf(residus)\n",
    "plt.show()"
   ]
  },
  {
   "cell_type": "markdown",
   "metadata": {},
   "source": [
    "## 3. Tester l’hypothèse que les valeurs passées de inf n’ont pas d’impact sur i3."
   ]
  },
  {
   "cell_type": "code",
   "execution_count": 67,
   "metadata": {
    "collapsed": false
   },
   "outputs": [
    {
     "name": "stdout",
     "output_type": "stream",
     "text": [
      "(52, 3) (52,)\n",
      "[ 0.58540792 -0.15396746  0.36430172]\n"
     ]
    }
   ],
   "source": [
    "x_cols = [\"inf_1\", \"inf_2\", \"inf_3\"]\n",
    "x = df_vol[x_cols].values[4:]\n",
    "y = df_vol[\"i3\"].values[4:]\n",
    "print(x.shape, y.shape)\n",
    "\n",
    "lr = LinearRegression()\n",
    "lr.fit(x, y)\n",
    "print(lr.coef_)"
   ]
  },
  {
   "cell_type": "code",
   "execution_count": null,
   "metadata": {
    "collapsed": true
   },
   "outputs": [],
   "source": []
  }
 ],
 "metadata": {
  "anaconda-cloud": {},
  "kernelspec": {
   "display_name": "Python [default]",
   "language": "python",
   "name": "python3"
  },
  "language_info": {
   "codemirror_mode": {
    "name": "ipython",
    "version": 3
   },
   "file_extension": ".py",
   "mimetype": "text/x-python",
   "name": "python",
   "nbconvert_exporter": "python",
   "pygments_lexer": "ipython3",
   "version": "3.5.3"
  }
 },
 "nbformat": 4,
 "nbformat_minor": 2
}
